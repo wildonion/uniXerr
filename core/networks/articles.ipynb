# **USEFULL RESOURCES ON UNSUPERVISED LEARNING ALGORITHMS**:

[a survey of the state of the art language models up to early 2020](https://medium.com/@phylypo/a-survey-of-the-state-of-the-art-language-models-up-to-early-2020-aba824302c6)

[openai - generative models](https://openai.com/blog/generative-models/)

[gan generative adversarial network explainer ai machine learning](https://venturebeat.com/2019/12/26/gan-generative-adversarial-network-explainer-ai-machine-learning/)

[A Short Introduction to Entropy, Cross-Entropy and KL-Divergence](https://www.youtube.com/watch?v=ErfnhcEV1O8)

[ml concept Infomation Theory](https://gaussian37.github.io/ml-concept-Infomation-Theory/)

[introduction to information theory](https://web.stanford.edu/~montanar/RESEARCH/BOOK/partA.pdf)

[dl probability and statistics explained](https://towardsdatascience.com/probability-and-statistics-explained-in-the-context-of-deep-learning-ed1509b2eb3f)

[Preprocessing for deep learning](https://hadrienj.github.io/posts/Preprocessing-for-deep-learning/)

[comprehensive introduction to turing learning and gans](https://towardsdatascience.com/comprehensive-introduction-to-turing-learning-and-gans-part-2-fd8e4a70775)

[modelzoo - generative models](https://modelzoo.co/category/generative-models)


[awesome capsule networks](https://github.com/sekwiatkowskiawesome-capsule-networks)

[all GANs variation in keras](https://github.com/eriklindernoren/Keras-GAN)

[Geoffrey Hinton course](https://github.com/khanhnamle1994/neural-nets)

[feature scaling](http://sebastianraschka.com/Articles/2014_about_feature_scaling.html)

[gans-cgans-ae-aae-ave-caae-cave](https://medium.com/lis-computer-vision-blogs/gans-cgans-ae-aae-ave-caae-cave-2e7d23255b52)

[must read papers on gans](https://towardsdatascience.com/must-read-papers-on-gans-b665bbae3317)

[MIT 6.S191 (2019): Deep Generative Modeling](https://www.youtube.com/watch?v=yFBFl1cLYx8&feature=youtu.be)

[stylegans use machine learning to generate and customize realistic images](https://heartbeat.fritz.ai/stylegans-use-machine-learning-to-generate-and-customize-realistic-images-c943388dc672)

[generative adversarial network by pathmind](https://pathmind.com/wiki/generative-adversarial-network-gan)

[generating modern arts using generative adversarial network gan on spell](https://towardsdatascience.com/generating-modern-arts-using-generative-adversarial-network-gan-on-spell-39f67f83c7b4)

[generating letters using generative adversarial networks](https://medium.com/ml-everything/generating-letters-using-generative-adversarial-networks-gans-161b0be3c229)

[generative adversarial networks by toptal](https://www.toptal.com/machine-learning/generative-adversarial-networks)

[adversarial autoencoders - researchcode](https://researchcode.com/code/1873018888/adversarial-autoencoders/)

[intro to GAN by rubikscode](https://rubikscode.net/2018/12/10/introduction-to-generative-adversarial-networks-gans/)

[intor to AAE by rubikscode](https://rubikscode.net/2019/01/14/introduction-to-adversarial-autoencoders/)

[GAN variations](https://towardsdatascience.com/gan-objective-functions-gans-and-their-variations-ad77340bce3c)

[rubikscode - intro to autoencoders](https://rubikscode.net/2018/11/19/introduction-to-autoencoders/)

[datacamp - autoencoders keras](https://www.datacamp.com/community/tutorials/autoencoder-keras-tutorial)

[k-means clustering algorithm from scratch - machine learning](https://automaticaddison.com/k-means-clustering-algorithm-from-scratch-machine-learning/)

[k-means clustering implementation](https://towardsdatascience.com/k-means-clustering-implementation-2018-ac5cd1e51d0a)

[comprehensive guide k-means clustering](https://www.analyticsvidhya.com/blog/2019/08/comprehensive-guide-k-means-clustering/)

[k-means clustering from scratch in python](https://medium.com/machine-learning-algorithms-from-scratch/k-means-clustering-from-scratch-in-python-1675d38eee42)

[kmeans clustering from scratch - mubaris](https://mubaris.com/2017-10-01/kmeans-clustering-in-python)

[k-means from scratch - dfrieds blog](https://dfrieds.com/machine-learning/k-means-from-scratch-python)

[k-means from scratch](https://mmuratarat.github.io/2019-07-23/kmeans_from_scratch)

[implementing k-means clustering from scratch](http://madhugnadig.com/articles/machine-learning/2017/03/04/implementing-k-means-clustering-from-scratch-in-python.html)

[k-means clustering in python](http://benalexkeen.com/k-means-clustering-in-python/)

[The variational auto-encoder](https://ermongroup.github.io/cs228-notes/extras/vae/)

[Neural Networks and Clustering (Autoencoders)](https://www.youtube.com/watch?v=0oEMORg04zw&list=PLdk2fd27CQzRSl0UoxnMrlQY0uoQGmgLk)

[K-Means Clustering - Methods using Scikit-learn in Python - Tutorial 23 in Jupyter Notebook](https://www.youtube.com/watch?v=ikt0sny_ImY)

[autoencoder tutorial: machine learning with keras](https://www.youtube.com/watch?v=uCaPP4blYAg)

[applying machine learning to classify an unsupervised text document](https://towardsdatascience.com/applying-machine-learning-to-classify-an-unsupervised-text-document-e7bb6265f52)

[Unsupervised Machine Learning - Hierarchical Clustering with Mean Shift Scikit-learn and Python](https://www.youtube.com/watch?v=EQZaSuK-PHs)

[Unsupervised Learning by siraj](https://www.youtube.com/watch?v=8dqdDEyzkFA)

[understanding k-means clustering in machine learning](https://towardsdatascience.com/understanding-k-means-clustering-in-machine-learning-6a6e67336aa1)

[comprehensive guide recommendation engine python](https://www.analyticsvidhya.com/blog/2018/06/comprehensive-guide-recommendation-engine-python/?utm_source=blog&utm_medium=comprehensive-guide-k-means-clustering)

[build recommendation engine collaborative filtering](https://realpython.com/build-recommendation-engine-collaborative-filtering/)

[k-means clustering unsupervised learning recommender systems](https://www.kdnuggets.com/2019/04/k-means-clustering-unsupervised-learning-recommender-systems.html)

[build your own clustering based recommendation engine in 15 minutes](https://towardsdatascience.com/build-your-own-clustering-based-recommendation-engine-in-15-minutes-bdddd591d394)

[machine learning for recommender systems](https://medium.com/recombee-blog/machine-learning-for-recommender-systems-part-1-algorithms-evaluation-and-cold-start-6f696683d0ed)

[machine learning recommender systems](https://www.kdnuggets.com/2019/09/machine-learning-recommender-systems.html)

[comprehensive guide recommendation engine python](https://www.analyticsvidhya.com/blog/2018/06/comprehensive-guide-recommendation-engine-python/)

[introduction to recommender systems](https://towardsdatascience.com/introduction-to-recommender-systems-6c66cf15ada)

[Deep Neural Networks for YouTube Recommendations](https://static.googleusercontent.com/media/research.google.com/ru//pubs/archive/45530.pdf)

[Building a Movie Recommendation Engine | Machine Learning Projects](https://www.youtube.com/watch?v=XoTwndOgXBM&t=5058s)

[deep clustering](https://deepnotes.io/deep-clustering)

[deep learning based clustering techniques](https://divamgupta.com/unsupervised-learning/2019/03/08/an-overview-of-deep-learning-based-clustering-techniques.html)

[kohonen self organizing maps](https://towardsdatascience.com/kohonen-self-organizing-maps-a29040d688da)

[recommendation system algorithms](https://blog.statsbot.co/recommendation-system-algorithms-ba67f39ac9a3)

[deep clustering for financial market segmentation](https://towardsdatascience.com/deep-clustering-for-financial-market-segmentation-2a41573618cf)

[unsupervised deep learning computer vision](https://www.analyticsvidhya.com/blog/2018/06/unsupervised-deep-learning-computer-vision/)

[Supervised and Unsupervised Learning In Machine Learning | Machine Learning Tutorial | Simplilearn](https://www.youtube.com/watch?v=kE5QZ8G_78c)

[Unsupervised Machine Learning: Crash Course Statistics #37](https://www.youtube.com/watch?v=IUn8k5zSI6g)

[unsupervised learning and data clustering](https://towardsdatascience.com/unsupervised-learning-and-data-clustering-eeecb78b422a)

[autoencoders neural networks for unsupervised learning](https://medium.com/intuitive-deep-learning/autoencoders-neural-networks-for-unsupervised-learning-83af5f092f0b)

[unsupervised clustering with keras](https://www.dlology.com/blog/how-to-do-unsupervised-clustering-with-keras/)

[introduction to unsupervised learning by algorithmia](https://algorithmia.com/blog/introduction-to-unsupervised-learning)

[building autoencoders in keras](https://blog.keras.io/building-autoencoders-in-keras.html)

[sparse stacked and variational autoencoder](https://medium.com/@venkatakrishna.jonnalagadda/sparse-stacked-and-variational-autoencoder-efe5bfe73b64)

[essentials of deep learning trudging into unsupervised deep learning](https://www.analyticsvidhya.com/blog/2018/05/essentials-of-deep-learning-trudging-into-unsupervised-deep-learning/)